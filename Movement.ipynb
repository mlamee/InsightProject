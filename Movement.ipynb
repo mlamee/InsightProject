{
 "cells": [
  {
   "cell_type": "markdown",
   "metadata": {},
   "source": [
    "## Movement detection\n",
    "##### This is similar to Resize ipython notebook but for another location."
   ]
  },
  {
   "cell_type": "code",
   "execution_count": 4,
   "metadata": {
    "collapsed": false
   },
   "outputs": [
    {
     "name": "stderr",
     "output_type": "stream",
     "text": [
      "/Users/Mehdi/anaconda/lib/python2.7/site-packages/matplotlib/font_manager.py:273: UserWarning: Matplotlib is building the font cache using fc-list. This may take a moment.\n",
      "  warnings.warn('Matplotlib is building the font cache using fc-list. This may take a moment.')\n"
     ]
    }
   ],
   "source": [
    "import matplotlib.pyplot as plt\n",
    "%matplotlib inline\n",
    "import cv2\n",
    "import numpy as np\n",
    "import exifread\n",
    "import glob, os\n",
    "import shutil"
   ]
  },
  {
   "cell_type": "code",
   "execution_count": 15,
   "metadata": {
    "collapsed": true
   },
   "outputs": [],
   "source": [
    "files = glob.glob(\"/Users/Mehdi/Downloads/GoldenGate-Animals/SM-1_SB-13_20160315/*.JPG\")\n",
    "num=len(files)\n"
   ]
  },
  {
   "cell_type": "code",
   "execution_count": 16,
   "metadata": {
    "collapsed": true
   },
   "outputs": [],
   "source": [
    "dates=np.array([])\n",
    "lat=np.array([])\n",
    "lon=np.array([])\n",
    "flash=np.array([])\n",
    "lightsource=np.array([])\n",
    "colorspace=np.array([])\n",
    "# Open image file for reading (binary mode)\n",
    "for i in range(num): \n",
    "    f = open(files[i], 'rb')\n",
    "    tags = exifread.process_file(f)\n",
    "    dates=np.append(dates,str(tags['EXIF DateTimeOriginal']).split()[0])\n",
    "    lat= np.append(lat,str(tags['GPS GPSLatitude']))\n",
    "    lon= np.append(lon,str(tags['GPS GPSLongitude']))\n",
    "    flash=np.append(flash,str(tags['EXIF Flash']))\n",
    "    lightsource=np.append(lightsource,str(tags['EXIF LightSource']))\n",
    "    colorspace=np.append(colorspace,str(tags['EXIF ColorSpace']))\n",
    "    #print tags['EXIF LightSource']"
   ]
  },
  {
   "cell_type": "code",
   "execution_count": null,
   "metadata": {
    "collapsed": false
   },
   "outputs": [],
   "source": []
  },
  {
   "cell_type": "code",
   "execution_count": 17,
   "metadata": {
    "collapsed": false
   },
   "outputs": [],
   "source": [
    "uni_lightsource =np.unique(lightsource)\n",
    "uni_colorspace =np.unique(colorspace)\n",
    "uni_flash =np.unique(flash)\n",
    "uni_lon =np.unique(lon)\n",
    "uni_lat =np.unique(lat)\n",
    "\n"
   ]
  },
  {
   "cell_type": "code",
   "execution_count": 18,
   "metadata": {
    "collapsed": false
   },
   "outputs": [
    {
     "name": "stdout",
     "output_type": "stream",
     "text": [
      "['2016:02:08' '2016:02:09' '2016:02:10' '2016:02:11' '2016:02:12'\n",
      " '2016:02:13' '2016:02:14' '2016:02:15' '2016:02:17' '2016:02:20'\n",
      " '2016:02:21' '2016:02:22' '2016:02:23' '2016:02:24' '2016:02:25'\n",
      " '2016:02:26' '2016:02:27' '2016:02:28' '2016:02:29' '2016:03:01'\n",
      " '2016:03:02' '2016:03:03' '2016:03:06' '2016:03:10' '2016:03:11'\n",
      " '2016:03:12' '2016:03:13']\n"
     ]
    },
    {
     "data": {
      "text/plain": [
       "array([  7.,  18.,  12.,  21.,  18.,  36.,  24.,  18.,   9.,  42.,  57.,\n",
       "        18.,   9.,   3.,   3.,  18.,   3.,  27.,   9.,  21.,   9.,   3.,\n",
       "        45.,   3.,   6.,  12.,   6.])"
      ]
     },
     "execution_count": 18,
     "metadata": {},
     "output_type": "execute_result"
    }
   ],
   "source": [
    "uniquedate =np.unique(dates)\n",
    "print uniquedate\n",
    "num_unique=np.zeros(len(uniquedate))\n",
    "for i in range(len(uniquedate)):\n",
    "    num_unique[i]=len(np.where(dates== uniquedate[i])[0])\n",
    "num_unique"
   ]
  },
  {
   "cell_type": "code",
   "execution_count": null,
   "metadata": {
    "collapsed": false
   },
   "outputs": [],
   "source": []
  },
  {
   "cell_type": "code",
   "execution_count": 20,
   "metadata": {
    "collapsed": false
   },
   "outputs": [
    {
     "name": "stdout",
     "output_type": "stream",
     "text": [
      "2016:02:10\n"
     ]
    }
   ],
   "source": [
    "index=2\n",
    "id0=np.where(dates== uniquedate[index])\n",
    "print dates[id0][0]\n",
    "dir='/Users/Mehdi/Downloads/GoldenGate-Animals/SM-1_SB-13_20160315/Resized/'\n",
    "name=dir+dates[id0][0]\n",
    "if os.path.isdir(name):\n",
    "    shutil.rmtree(name)\n",
    "os.mkdir(dir)    \n",
    "os.mkdir(name)\n",
    "lenad=len('/Users/Mehdi/Downloads/GoldenGate-Animals/SM-1_SB-13_20160315/')\n",
    "sx=1944\n",
    "sy=2592\n",
    "dx=sx/5\n",
    "dy=sy/5\n",
    "for i in range(len(id0[0])):\n",
    "    im=cv2.imread(files[id0[0][i]])\n",
    "    im[1744:1944,0:209,:]=0\n",
    "    im[1840:1944,:,:]=0\n",
    "    imresized = cv2.resize(im, (dy, dx),interpolation=cv2.INTER_NEAREST) \n",
    "    cv2.imwrite(name+'/'+files[id0[0][i]][lenad:-4]+'_Resized.JPG',imresized)"
   ]
  },
  {
   "cell_type": "code",
   "execution_count": null,
   "metadata": {
    "collapsed": false
   },
   "outputs": [],
   "source": []
  },
  {
   "cell_type": "code",
   "execution_count": 21,
   "metadata": {
    "collapsed": false
   },
   "outputs": [],
   "source": [
    "imlist = glob.glob(name+\"/*.JPG\")\n",
    "numim=len(imlist)\n",
    "imcube=np.empty([388,518])\n",
    "for i in range(numim):\n",
    "    img = cv2.cvtColor( cv2.imread(imlist[i]), cv2.COLOR_RGB2GRAY )\n",
    "    # create a CLAHE object (Arguments are optional). Contrast Limited Adaptive Histogram Equalization\n",
    "    clahe = cv2.createCLAHE(clipLimit=2.0, tileGridSize=(8,8))\n",
    "    cl1 = clahe.apply(img)\n",
    "    imcube=np.dstack((imcube,cl1))\n",
    "imcube=np.delete(imcube,0,2)"
   ]
  },
  {
   "cell_type": "code",
   "execution_count": 22,
   "metadata": {
    "collapsed": true
   },
   "outputs": [],
   "source": [
    "medim=np.median(imcube,axis=2)\n",
    "imblur=np.empty([388,518])\n",
    "for i in range(numim):\n",
    "    imblur=np.dstack((imblur,cv2.blur(imcube[:,:,i],(5,5))))\n",
    "imblur=np.delete(imblur,0,2)\n",
    "medblur=np.median(imblur,axis=2)"
   ]
  },
  {
   "cell_type": "code",
   "execution_count": 23,
   "metadata": {
    "collapsed": true
   },
   "outputs": [],
   "source": [
    "subblur=np.empty([388,518])\n",
    "subcube=np.empty([388,518])\n",
    "for i in range(numim):\n",
    "    subblur=np.dstack((subblur,cv2.subtract(imblur[:,:,i],medblur)))\n",
    "subblur=np.delete(subblur,0,2)"
   ]
  },
  {
   "cell_type": "code",
   "execution_count": 24,
   "metadata": {
    "collapsed": true
   },
   "outputs": [],
   "source": [
    "### calculating the similarity between the medblur image and the other images.\n",
    "method=cv2.cv.CV_COMP_CORREL\n",
    "histmedblur = cv2.calcHist([np.array(medblur,dtype = np.uint16)],[0],None,[256],[0,256])\n",
    "histmedblur = cv2.normalize(histmedblur).flatten()\n",
    "d=[]\n",
    "stdscore=[]\n",
    "for i in range(numim):\n",
    "    hist = cv2.calcHist([np.array(imblur[:,:,i],dtype = np.uint16)],[0],None,[256],[0,256])\n",
    "    hist = cv2.normalize(hist).flatten()\n",
    "    d = np.append(d,cv2.compareHist(histmedblur[5:250],hist[5:250], method))\n",
    "    stdscore=np.append(stdscore,np.std(imblur[:,:,i]-medblur))"
   ]
  },
  {
   "cell_type": "code",
   "execution_count": 27,
   "metadata": {
    "collapsed": false
   },
   "outputs": [
    {
     "name": "stdout",
     "output_type": "stream",
     "text": [
      "0.436556669715\n",
      "0.251436106129\n",
      "0.662849165231\n"
     ]
    },
    {
     "data": {
      "text/plain": [
       "[<matplotlib.lines.Line2D at 0x1109dda50>]"
      ]
     },
     "execution_count": 27,
     "metadata": {},
     "output_type": "execute_result"
    },
    {
     "data": {
      "image/png": "[encoded data removed]",
      "text/plain": [
       "<matplotlib.figure.Figure at 0x1109ddc50>"
      ]
     },
     "metadata": {},
     "output_type": "display_data"
    }
   ],
   "source": [
    "fscore=stdscore+1.0/d\n",
    "fscore_norm=fscore/np.max(fscore)\n",
    "plt.hist(fscore_norm,bins=np.linspace(0,1,40))\n",
    "print np.median(fscore_norm)\n",
    "print np.std(fscore_norm)\n",
    "thres=np.median(fscore_norm)+0.9*np.std(fscore_norm)\n",
    "print thres\n",
    "plt.plot([thres,thres],[0,4])"
   ]
  },
  {
   "cell_type": "markdown",
   "metadata": {},
   "source": [
    "### Conclusion\n",
    "All images in this set contain either human or animal. I'm not sure if they already have filtered it or not but this set is a good example for training a classifier to separate human from animals."
   ]
  },
  {
   "cell_type": "code",
   "execution_count": null,
   "metadata": {
    "collapsed": true
   },
   "outputs": [],
   "source": []
  }
 ],
 "metadata": {
  "kernelspec": {
   "display_name": "Python 2",
   "language": "python",
   "name": "python2"
  },
  "language_info": {
   "codemirror_mode": {
    "name": "ipython",
    "version": 2
   },
   "file_extension": ".py",
   "mimetype": "text/x-python",
   "name": "python",
   "nbconvert_exporter": "python",
   "pygments_lexer": "ipython2",
   "version": "2.7.12"
  }
 },
 "nbformat": 4,
 "nbformat_minor": 0
}
