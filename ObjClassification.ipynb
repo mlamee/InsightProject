{
 "cells": [
  {
   "cell_type": "markdown",
   "metadata": {},
   "source": [
    "## Objection detection \n",
    "#### This should be run on a smaller sample of images selected as a result of my previous script\n",
    "This ipython notebook is running in Tensor flow environment and not Anocanda!"
   ]
  },
  {
   "cell_type": "code",
   "execution_count": 2,
   "metadata": {
    "collapsed": false
   },
   "outputs": [
    {
     "name": "stdout",
     "output_type": "stream",
     "text": [
      "Collecting matplotlib\n",
      "  Downloading matplotlib-2.0.0-cp27-cp27m-macosx_10_6_intel.macosx_10_9_intel.macosx_10_9_x86_64.macosx_10_10_intel.macosx_10_10_x86_64.whl (12.8MB)\n",
      "\u001b[K    100% |████████████████████████████████| 12.8MB 59kB/s \n",
      "\u001b[?25hCollecting subprocess32 (from matplotlib)\n",
      "  Downloading subprocess32-3.2.7.tar.gz (54kB)\n",
      "\u001b[K    100% |████████████████████████████████| 61kB 3.9MB/s \n",
      "\u001b[?25hRequirement already satisfied: functools32 in /Users/Mehdi/anaconda/envs/tensorflow/lib/python2.7/site-packages (from matplotlib)\n",
      "Collecting python-dateutil (from matplotlib)\n",
      "  Downloading python_dateutil-2.6.0-py2.py3-none-any.whl (194kB)\n",
      "\u001b[K    100% |████████████████████████████████| 194kB 1.4MB/s \n",
      "\u001b[?25hRequirement already satisfied: six>=1.10 in /Users/Mehdi/anaconda/envs/tensorflow/lib/python2.7/site-packages (from matplotlib)\n",
      "Collecting pytz (from matplotlib)\n",
      "  Downloading pytz-2016.10-py2.py3-none-any.whl (483kB)\n",
      "\u001b[K    100% |████████████████████████████████| 491kB 1.3MB/s \n",
      "\u001b[?25hRequirement already satisfied: numpy>=1.7.1 in /Users/Mehdi/anaconda/envs/tensorflow/lib/python2.7/site-packages (from matplotlib)\n",
      "Collecting cycler>=0.10 (from matplotlib)\n",
      "  Downloading cycler-0.10.0-py2.py3-none-any.whl\n",
      "Collecting pyparsing!=2.0.0,!=2.0.4,!=2.1.2,!=2.1.6,>=1.5.6 (from matplotlib)\n",
      "  Downloading pyparsing-2.1.10-py2.py3-none-any.whl (56kB)\n",
      "\u001b[K    100% |████████████████████████████████| 61kB 3.7MB/s \n",
      "\u001b[?25hBuilding wheels for collected packages: subprocess32\n",
      "  Running setup.py bdist_wheel for subprocess32 ... \u001b[?25l-\b \b\\\b \b|\b \b/\b \bdone\n",
      "\u001b[?25h  Stored in directory: /Users/Mehdi/Library/Caches/pip/wheels/7d/4c/a4/ce9ceb463dae01f4b95e670abd9afc8d65a45f38012f8030cc\n",
      "Successfully built subprocess32\n",
      "Installing collected packages: subprocess32, python-dateutil, pytz, cycler, pyparsing, matplotlib\n",
      "Successfully installed cycler-0.10.0 matplotlib-2.0.0 pyparsing-2.1.10 python-dateutil-2.6.0 pytz-2016.10 subprocess32-3.2.7\n"
     ]
    }
   ],
   "source": [
    "!pip install matplotlib"
   ]
  },
  {
   "cell_type": "code",
   "execution_count": 9,
   "metadata": {
    "collapsed": false
   },
   "outputs": [
    {
     "name": "stdout",
     "output_type": "stream",
     "text": [
      "Collecting opencv-python\n",
      "  Downloading opencv_python-3.2.0.6-cp27-cp27m-macosx_10_6_intel.macosx_10_9_intel.macosx_10_9_x86_64.macosx_10_10_intel.macosx_10_10_x86_64.whl (27.2MB)\n",
      "\u001b[K    100% |████████████████████████████████| 27.2MB 28kB/s \n",
      "\u001b[?25hCollecting numpy>=1.11.3 (from opencv-python)\n",
      "  Downloading numpy-1.12.0-cp27-cp27m-macosx_10_6_intel.macosx_10_9_intel.macosx_10_9_x86_64.macosx_10_10_intel.macosx_10_10_x86_64.whl (4.4MB)\n",
      "\u001b[K    100% |████████████████████████████████| 4.4MB 174kB/s \n",
      "\u001b[?25hInstalling collected packages: numpy, opencv-python\n",
      "  Found existing installation: numpy 1.11.2\n",
      "    Uninstalling numpy-1.11.2:\n",
      "      Successfully uninstalled numpy-1.11.2\n",
      "Successfully installed numpy-1.12.0 opencv-python-3.2.0.6\n"
     ]
    }
   ],
   "source": [
    "!pip install opencv-python"
   ]
  },
  {
   "cell_type": "code",
   "execution_count": 11,
   "metadata": {
    "collapsed": false
   },
   "outputs": [
    {
     "name": "stdout",
     "output_type": "stream",
     "text": [
      "Collecting exifread\n",
      "  Using cached ExifRead-2.1.2-py2-none-any.whl\n",
      "Installing collected packages: exifread\n",
      "Successfully installed exifread-2.1.2\n"
     ]
    }
   ],
   "source": [
    "!pip install exifread"
   ]
  },
  {
   "cell_type": "code",
   "execution_count": 27,
   "metadata": {
    "collapsed": false
   },
   "outputs": [],
   "source": [
    "import matplotlib.pyplot as plt\n",
    "%matplotlib inline\n",
    "import cv2\n",
    "import numpy as np\n",
    "import exifread\n",
    "import glob, os\n",
    "import shutil\n",
    "import tensorflow as tf\n",
    "import pickle\n",
    "import sklearn as sk\n",
    "import re"
   ]
  },
  {
   "cell_type": "markdown",
   "metadata": {},
   "source": [
    "### Downloading the pre-trained Inception v3 model and puting it in model_dir/imagenet/"
   ]
  },
  {
   "cell_type": "code",
   "execution_count": 25,
   "metadata": {
    "collapsed": true
   },
   "outputs": [],
   "source": [
    "model_dir='/Users/Mehdi/Downloads/GoldenGate-Animals/Inception3/imagenet/'"
   ]
  },
  {
   "cell_type": "code",
   "execution_count": 13,
   "metadata": {
    "collapsed": false
   },
   "outputs": [
    {
     "name": "stdout",
     "output_type": "stream",
     "text": [
      ">> Downloading inception-2015-12-05.tgz 100.0%\n",
      "Succesfully downloaded inception-2015-12-05.tgz 88931400 bytes.\n",
      "W tensorflow/core/framework/op_def_util.cc:332] Op BatchNormWithGlobalNormalization is deprecated. It will cease to work in GraphDef version 9. Use tf.nn.batch_normalization().\n",
      "giant panda, panda, panda bear, coon bear, Ailuropoda melanoleuca (score = 0.89233)\n",
      "indri, indris, Indri indri, Indri brevicaudatus (score = 0.00859)\n",
      "lesser panda, red panda, panda, bear cat, cat bear, Ailurus fulgens (score = 0.00264)\n",
      "custard apple (score = 0.00141)\n",
      "earthstar (score = 0.00107)\n"
     ]
    }
   ],
   "source": [
    "!python /Users/Mehdi/anaconda/envs/tensorflow/lib/python2.7/site-packages/tensorflow/models/image/imagenet/classify_image.py --model_dir /Users/Mehdi/Downloads/GoldenGate-Animals/Inception3/imagenet"
   ]
  },
  {
   "cell_type": "code",
   "execution_count": 17,
   "metadata": {
    "collapsed": false
   },
   "outputs": [],
   "source": [
    "# Making a list for images\n",
    "#list_images = [images_dir+f for f in os.listdir(images_dir) if re.search('jpg|JPG', f)]\n",
    "images_dir='/Users/Mehdi/Downloads/GoldenGate-Animals/SM-1_SB-13_20160315/'\n",
    "imlist=glob.glob(images_dir+\"*.JPG\")"
   ]
  },
  {
   "cell_type": "code",
   "execution_count": 19,
   "metadata": {
    "collapsed": false
   },
   "outputs": [],
   "source": [
    "# Making the graph definition and structure for Tensor flow\n",
    "# This function is using classify_image_graph_def.pb file which is downloaded as part of the Inception v3 model\n",
    "def graphmaker():\n",
    "    with tf.python.platform.gfile.FastGFile(os.path.join(model_dir, 'classify_image_graph_def.pb'), 'rb') as f:\n",
    "        graph_def = tf.GraphDef()\n",
    "        graph_def.ParseFromString(f.read())\n",
    "        _ = tf.import_graph_def(graph_def, name='')\n"
   ]
  },
  {
   "cell_type": "code",
   "execution_count": 23,
   "metadata": {
    "collapsed": false
   },
   "outputs": [],
   "source": [
    "def extract_features(imlist):\n",
    "    nb_features = 2048\n",
    "    features = np.empty((len(imlist),nb_features))\n",
    "    labels = []\n",
    "\n",
    "    graphmaker()\n",
    "\n",
    "    with tf.Session() as sess:\n",
    "\n",
    "        next_to_last_tensor = sess.graph.get_tensor_by_name('pool_3:0')\n",
    "\n",
    "        for ind, image in enumerate(imlist):\n",
    "            if (ind%100 == 0):\n",
    "                print('Processing %s...' % (image))\n",
    "            if not tf.python.platform.gfile.Exists(image):\n",
    "                tf.logging.fatal('File does not exist %s', image)\n",
    "\n",
    "            image_data = tf.python.platform.gfile.FastGFile(image, 'rb').read()\n",
    "            predictions = sess.run(next_to_last_tensor,\n",
    "            {'DecodeJpeg/contents:0': image_data})\n",
    "            features[ind,:] = np.squeeze(predictions)\n",
    "            labels.append(re.split('_\\d+',image.split('/')[1])[0])\n",
    "\n",
    "    return features, labels"
   ]
  },
  {
   "cell_type": "code",
   "execution_count": 28,
   "metadata": {
    "collapsed": false
   },
   "outputs": [
    {
     "name": "stdout",
     "output_type": "stream",
     "text": [
      "Processing /Users/Mehdi/Downloads/GoldenGate-Animals/SM-1_SB-13_20160315/SM1 2-10-2016 11-52-022.JPG...\n",
      "Processing /Users/Mehdi/Downloads/GoldenGate-Animals/SM-1_SB-13_20160315/SM1 2-14-2016 2-01-46 PM.JPG...\n",
      "Processing /Users/Mehdi/Downloads/GoldenGate-Animals/SM-1_SB-13_20160315/SM1 2-21-2016 8-53-46 AM.JPG...\n",
      "Processing /Users/Mehdi/Downloads/GoldenGate-Animals/SM-1_SB-13_20160315/SM1 2-28-2016 12-37-030.JPG...\n",
      "Processing /Users/Mehdi/Downloads/GoldenGate-Animals/SM-1_SB-13_20160315/SM1 3-2-2016 11-53-025.JPG...\n"
     ]
    }
   ],
   "source": [
    "# This might take a while\n",
    "features,labels = extract_features(imlist)\n"
   ]
  },
  {
   "cell_type": "code",
   "execution_count": null,
   "metadata": {
    "collapsed": true
   },
   "outputs": [],
   "source": [
    "# Saving the feature vectors\n",
    "pickle.dump(features, open('features', 'wb'))\n",
    "pickle.dump(labels, open('labels', 'wb'))\n"
   ]
  },
  {
   "cell_type": "markdown",
   "metadata": {},
   "source": [
    "### Classification"
   ]
  },
  {
   "cell_type": "code",
   "execution_count": null,
   "metadata": {
    "collapsed": true
   },
   "outputs": [],
   "source": [
    "# Loading the features\n",
    "features = pickle.load(open('features'))\n",
    "labels = pickle.load(open('labels'))"
   ]
  },
  {
   "cell_type": "code",
   "execution_count": null,
   "metadata": {
    "collapsed": true
   },
   "outputs": [],
   "source": [
    "# Making train/test sets\n",
    "X_train, X_test, y_train, y_test = sk.cross_validation.train_test_split(features, labels, test_size=0.2, random_state=42)\n"
   ]
  },
  {
   "cell_type": "code",
   "execution_count": null,
   "metadata": {
    "collapsed": true
   },
   "outputs": [],
   "source": [
    "# Classifying with Linear SVM\n",
    "clf = sk.svm.LinearSVC(C=1.0, loss='squared_hinge', penalty='l2',multi_class='ovr')\n",
    "clf.fit(X_train, y_train)\n",
    "y_pred = clf.predict(X_test)\n"
   ]
  },
  {
   "cell_type": "code",
   "execution_count": null,
   "metadata": {
    "collapsed": true
   },
   "outputs": [],
   "source": [
    "# Plotting the confussion metrix\n",
    "def plot_confusion_matrix(y_true,y_pred):\n",
    "    cm_array = sk.metrics.confusion_matrix(y_true,y_pred)\n",
    "    true_labels = np.unique(y_true)\n",
    "    pred_labels = np.unique(y_pred)\n",
    "    plt.imshow(cm_array[:-1,:-1], interpolation='nearest', cmap=plt.cm.Blues)\n",
    "    plt.title(\"Confusion matrix\", fontsize=16)\n",
    "    cbar = plt.colorbar(fraction=0.046, pad=0.04)\n",
    "    cbar.set_label('Number of images', rotation=270, labelpad=30, fontsize=12)\n",
    "    xtick_marks = np.arange(len(true_labels))\n",
    "    ytick_marks = np.arange(len(pred_labels))\n",
    "    plt.xticks(xtick_marks, true_labels, rotation=90)\n",
    "    plt.yticks(ytick_marks,pred_labels)\n",
    "    plt.tight_layout()\n",
    "    plt.ylabel('True label', fontsize=14)\n",
    "    plt.xlabel('Predicted label', fontsize=14)\n",
    "    fig_size = plt.rcParams[\"figure.figsize\"]\n",
    "    fig_size[0] = 12\n",
    "    fig_size[1] = 12\n",
    "    plt.rcParams[\"figure.figsize\"] = fig_size\n"
   ]
  },
  {
   "cell_type": "code",
   "execution_count": null,
   "metadata": {
    "collapsed": true
   },
   "outputs": [],
   "source": [
    "print(\"Accuracy: {0:0.1f}%\".format(sk.metrics.accuracy_score(y_test,y_pred)*100))\n",
    "plot_confusion_matrix(y_test,y_pred)"
   ]
  },
  {
   "cell_type": "code",
   "execution_count": null,
   "metadata": {
    "collapsed": true
   },
   "outputs": [],
   "source": []
  }
 ],
 "metadata": {
  "kernelspec": {
   "display_name": "Python 2",
   "language": "python",
   "name": "python2"
  },
  "language_info": {
   "codemirror_mode": {
    "name": "ipython",
    "version": 2
   },
   "file_extension": ".py",
   "mimetype": "text/x-python",
   "name": "python",
   "nbconvert_exporter": "python",
   "pygments_lexer": "ipython2",
   "version": "2.7.12"
  }
 },
 "nbformat": 4,
 "nbformat_minor": 0
}
