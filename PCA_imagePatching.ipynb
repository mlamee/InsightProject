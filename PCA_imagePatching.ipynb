{
 "cells": [
  {
   "cell_type": "code",
   "execution_count": 1,
   "metadata": {
    "collapsed": true
   },
   "outputs": [],
   "source": [
    "import matplotlib.pyplot as plt\n",
    "%matplotlib inline\n",
    "import cv2\n",
    "import numpy as np\n",
    "import exifread\n",
    "import glob, os\n",
    "import shutil\n",
    "from sklearn import decomposition\n",
    "import sklearn \n",
    "import time\n",
    "from scipy import stats"
   ]
  },
  {
   "cell_type": "code",
   "execution_count": 2,
   "metadata": {
    "collapsed": true
   },
   "outputs": [],
   "source": [
    "def sliceim(im):\n",
    "    xdim, ydim=np.shape(im)\n",
    "    im=im-np.median(im)\n",
    "    numslice=8\n",
    "    dx=xdim/numslice\n",
    "    dy=ydim/numslice\n",
    "    var=[]\n",
    "    for i in range(numslice-1):\n",
    "        for j in range(numslice-1):\n",
    "            imslice=im[dx*i:dx*(i+1),dy*j:dy*(j+1)]\n",
    "            var=np.append(var,np.std(imslice))\n",
    "    p16=np.percentile(var,16)\n",
    "    med=np.median(var)\n",
    "    if np.max(var) > med+5*(med-p16):\n",
    "        return True"
   ]
  },
  {
   "cell_type": "code",
   "execution_count": 2,
   "metadata": {
    "collapsed": false
   },
   "outputs": [
    {
     "name": "stdout",
     "output_type": "stream",
     "text": [
      "7224\n",
      "7316\n",
      "/Users/Mehdi/Downloads/GoldenGate-Animals/SM-1_SB-1_20141226/Positives/SM-1_20141205 (6801).JPG\n"
     ]
    }
   ],
   "source": [
    "files = glob.glob(\"/Users/Mehdi/Downloads/GoldenGate-Animals/SM-1_SB-1_20141226/Negatives/*.JPG\")\n",
    "numneg=len(files)\n",
    "print numneg\n",
    "files = files+glob.glob(\"/Users/Mehdi/Downloads/GoldenGate-Animals/SM-1_SB-1_20141226/Positives/*.JPG\")\n",
    "num=len(files)\n",
    "print num\n",
    "filepos = glob.glob(\"/Users/Mehdi/Downloads/GoldenGate-Animals/SM-1_SB-1_20141226/Positives/*.JPG\")\n",
    "numpos=len(filepos)\n",
    "print files[-1*numpos:-1][0]\n",
    "direc='/Users/Mehdi/Downloads/GoldenGate-Animals/SM-1_SB-1_20141226/PCA/'\n",
    "lenad=len('/Users/Mehdi/Downloads/GoldenGate-Animals/SM-1_SB-1_20141226/')\n"
   ]
  },
  {
   "cell_type": "code",
   "execution_count": 3,
   "metadata": {
    "collapsed": true
   },
   "outputs": [],
   "source": [
    "dates=np.array([])\n",
    "lat=np.array([])\n",
    "lon=np.array([])\n",
    "flash=np.array([])\n",
    "lightsource=np.array([])\n",
    "colorspace=np.array([])\n",
    "# Open image file for reading (binary mode)\n",
    "for i in range(num): \n",
    "    f = open(files[i], 'rb')\n",
    "    tags = exifread.process_file(f)\n",
    "    dates=np.append(dates,str(tags['EXIF DateTimeOriginal']).split()[0])\n",
    "    lat= np.append(lat,str(tags['GPS GPSLatitude']))\n",
    "    lon= np.append(lon,str(tags['GPS GPSLongitude']))\n",
    "    flash=np.append(flash,str(tags['EXIF Flash']))\n",
    "    lightsource=np.append(lightsource,str(tags['EXIF LightSource']))\n",
    "    colorspace=np.append(colorspace,str(tags['EXIF ColorSpace']))\n",
    "    \n",
    "datepos=np.array([])\n",
    "latpos=np.array([])\n",
    "lonpos=np.array([])\n",
    "flashpos=np.array([])\n",
    "lightsourcepos=np.array([])\n",
    "colorspacepos=np.array([])\n",
    "# Open image file for reading (binary mode)\n",
    "for i in range(numpos): \n",
    "    f = open(filepos[i], 'rb')\n",
    "    tagpos = exifread.process_file(f)\n",
    "    datepos=np.append(datepos,str(tagpos['EXIF DateTimeOriginal']).split()[0])\n",
    "    latpos= np.append(latpos,str(tagpos['GPS GPSLatitude']))\n",
    "    lonpos= np.append(lonpos,str(tagpos['GPS GPSLongitude']))\n",
    "    flashpos=np.append(flashpos,str(tagpos['EXIF Flash']))\n",
    "    lightsourcepos=np.append(lightsourcepos,str(tagpos['EXIF LightSource']))\n",
    "    colorspacepos=np.append(colorspacepos,str(tagpos['EXIF ColorSpace']))"
   ]
  },
  {
   "cell_type": "code",
   "execution_count": 4,
   "metadata": {
    "collapsed": false
   },
   "outputs": [
    {
     "data": {
      "text/plain": [
       "array(['[37, 31, 35]'], \n",
       "      dtype='|S32')"
      ]
     },
     "execution_count": 4,
     "metadata": {},
     "output_type": "execute_result"
    }
   ],
   "source": [
    "uni_lightsource =np.unique(lightsource)\n",
    "uni_colorspace =np.unique(colorspace)\n",
    "uni_flash =np.unique(flash)\n",
    "uni_lon =np.unique(lon)\n",
    "uni_lat =np.unique(lat)\n",
    "\n",
    "uni_lightsourcepos =np.unique(lightsourcepos)\n",
    "uni_colorspacepos =np.unique(colorspacepos)\n",
    "uni_flashpos =np.unique(flashpos)\n",
    "uni_lonpos =np.unique(lonpos)\n",
    "uni_latpos =np.unique(latpos)\n",
    "uni_latpos"
   ]
  },
  {
   "cell_type": "code",
   "execution_count": 5,
   "metadata": {
    "collapsed": false
   },
   "outputs": [
    {
     "name": "stdout",
     "output_type": "stream",
     "text": [
      "['2014:11:12' '2014:11:14' '2014:11:15' '2014:11:16' '2014:11:17'\n",
      " '2014:11:18' '2014:11:20' '2014:11:21' '2014:11:22' '2014:11:23'\n",
      " '2014:11:24' '2014:11:25' '2014:11:26' '2014:11:27' '2014:11:28'\n",
      " '2014:11:30' '2014:12:01' '2014:12:05' '2014:12:06' '2014:12:11'\n",
      " '2014:12:13' '2014:12:14' '2014:12:15' '2014:12:16' '2014:12:26']\n"
     ]
    },
    {
     "data": {
      "text/plain": [
       "array([  1.,   3.,   6.,   3.,   9.,  14.,   3.,  24.,  12.,   1.,   3.,\n",
       "         6.,   7.])"
      ]
     },
     "execution_count": 5,
     "metadata": {},
     "output_type": "execute_result"
    }
   ],
   "source": [
    "uniquedate =np.unique(dates)\n",
    "print uniquedate\n",
    "num_unique=np.zeros(len(uniquedate))\n",
    "for i in range(len(uniquedate)):\n",
    "    num_unique[i]=len(np.where(dates== uniquedate[i])[0])\n",
    "num_unique\n",
    "\n",
    "uniquedatepos =np.unique(datepos)\n",
    "num_uniquepos=np.zeros(len(uniquedatepos))\n",
    "for i in range(len(uniquedatepos)):\n",
    "    num_uniquepos[i]=len(np.where(datepos== uniquedatepos[i])[0])\n",
    "num_uniquepos"
   ]
  },
  {
   "cell_type": "code",
   "execution_count": 6,
   "metadata": {
    "collapsed": false
   },
   "outputs": [
    {
     "name": "stdout",
     "output_type": "stream",
     "text": [
      "Iteration over unique date of  2014:11:24\n",
      "2014:11:24\n",
      "Reading images, Down sampling and converting to Grayscale \n",
      "Bluring images...\n",
      "Finding the 10 most important principle axis and each image components\n",
      "saving the PCA residual maps\n",
      "--- 278.639787912 seconds ---\n"
     ]
    },
    {
     "name": "stderr",
     "output_type": "stream",
     "text": [
      "/Users/Mehdi/anaconda/lib/python2.7/site-packages/numpy/core/numeric.py:190: VisibleDeprecationWarning: using a non-integer number instead of an integer will result in an error in the future\n",
      "  a = empty(shape, dtype, order)\n"
     ]
    },
    {
     "data": {
      "image/png": "[encoded data removed]",
      "text/plain": [
       "<matplotlib.figure.Figure at 0x10c1f4c50>"
      ]
     },
     "metadata": {},
     "output_type": "display_data"
    }
   ],
   "source": [
    "#listname=['SM-1_SB-13_20160315','SM-4_SB-1_20160523','SM-4_SB-13_20161216','SM-5_SB-5_20140319','SM-5_SB-8_20150406']\n",
    "listname=['SM-1_SB-1_20141226']\n",
    "start_time = time.time()\n",
    "\n",
    "for memory in listname:\n",
    "    files = glob.glob(\"/Users/Mehdi/Downloads/GoldenGate-Animals/\"+memory+\"/Negatives/*.JPG\")\n",
    "\n",
    "    numneg=len(files)\n",
    "    print numneg\n",
    "    files = files+glob.glob(\"/Users/Mehdi/Downloads/GoldenGate-Animals/\"+memory+\"/Positives/*.JPG\")\n",
    "    num=len(files)\n",
    "    print num\n",
    "    filepos = glob.glob(\"/Users/Mehdi/Downloads/GoldenGate-Animals/\"+memory+\"/Positives/*.JPG\")\n",
    "    numpos=len(filepos)\n",
    "    print files[-1*numpos:-1][0]\n",
    "    direc='/Users/Mehdi/Downloads/GoldenGate-Animals/'+memory+'/PCA/'\n",
    "    lenad=len('/Users/Mehdi/Downloads/GoldenGate-Animals/'+memory+'/')\n",
    "\n",
    "\n",
    "    dates=np.array([])\n",
    "    lat=np.array([])\n",
    "    lon=np.array([])\n",
    "    flash=np.array([])\n",
    "    lightsource=np.array([])\n",
    "    colorspace=np.array([])\n",
    "    # Open image file for reading (binary mode)\n",
    "    for i in range(num): \n",
    "        f = open(files[i], 'rb')\n",
    "        tags = exifread.process_file(f)\n",
    "        dates=np.append(dates,str(tags['EXIF DateTimeOriginal']).split()[0])\n",
    "        lat= np.append(lat,str(tags['GPS GPSLatitude']))\n",
    "        lon= np.append(lon,str(tags['GPS GPSLongitude']))\n",
    "        flash=np.append(flash,str(tags['EXIF Flash']))\n",
    "        lightsource=np.append(lightsource,str(tags['EXIF LightSource']))\n",
    "        colorspace=np.append(colorspace,str(tags['EXIF ColorSpace']))\n",
    "\n",
    "    datepos=np.array([])\n",
    "    latpos=np.array([])\n",
    "    lonpos=np.array([])\n",
    "    flashpos=np.array([])\n",
    "    lightsourcepos=np.array([])\n",
    "    colorspacepos=np.array([])\n",
    "    # Open image file for reading (binary mode)\n",
    "    for i in range(numpos): \n",
    "        f = open(filepos[i], 'rb')\n",
    "        tagpos = exifread.process_file(f)\n",
    "        datepos=np.append(datepos,str(tagpos['EXIF DateTimeOriginal']).split()[0])\n",
    "        latpos= np.append(latpos,str(tagpos['GPS GPSLatitude']))\n",
    "        lonpos= np.append(lonpos,str(tagpos['GPS GPSLongitude']))\n",
    "        flashpos=np.append(flashpos,str(tagpos['EXIF Flash']))\n",
    "        lightsourcepos=np.append(lightsourcepos,str(tagpos['EXIF LightSource']))\n",
    "        colorspacepos=np.append(colorspacepos,str(tagpos['EXIF ColorSpace']))\n",
    "\n",
    "\n",
    "    uni_lightsource =np.unique(lightsource)\n",
    "    uni_colorspace =np.unique(colorspace)\n",
    "    uni_flash =np.unique(flash)\n",
    "    uni_lon =np.unique(lon)\n",
    "    uni_lat =np.unique(lat)\n",
    "\n",
    "    uni_lightsourcepos =np.unique(lightsourcepos)\n",
    "    uni_colorspacepos =np.unique(colorspacepos)\n",
    "    uni_flashpos =np.unique(flashpos)\n",
    "    uni_lonpos =np.unique(lonpos)\n",
    "    uni_latpos =np.unique(latpos)\n",
    "    uni_latpos\n",
    "\n",
    "    uniquedate =np.unique(dates)\n",
    "    #print uniquedate\n",
    "    num_unique=np.zeros(len(uniquedate))\n",
    "    for i in range(len(uniquedate)):\n",
    "        num_unique[i]=len(np.where(dates== uniquedate[i])[0])\n",
    "    num_unique\n",
    "\n",
    "    uniquedatepos =np.unique(datepos)\n",
    "    num_uniquepos=np.zeros(len(uniquedatepos))\n",
    "    for i in range(len(uniquedatepos)):\n",
    "        num_uniquepos[i]=len(np.where(datepos== uniquedatepos[i])[0])\n",
    "    num_uniquepos\n",
    "\n",
    "\n",
    "    #start_time = time.time()\n",
    "    \n",
    "    nightname_all=direc[0:-4]+'Night.txt'\n",
    "    allnight=open(nightname_all,'w')\n",
    "    allcandid=direc[0:-4]+'allcandid.txt'\n",
    "    allday=open(allcandid,'w')\n",
    "    for index in range(len(uniquedate)): \n",
    "    #for index in np.linspace(6,len(uniquedate)-1,len(uniquedate)-6):\n",
    "        print 'Iteration over unique date of ',uniquedate[index] \n",
    "        id0=np.where((dates== uniquedate[index]) & (lightsource=='Daylight'))\n",
    "        print dates[id0][0]\n",
    "        name=direc+dates[id0][0]\n",
    "        if os.path.isdir(name):\n",
    "            shutil.rmtree(name)\n",
    "        if os.path.isdir(direc)== False:\n",
    "            os.mkdir(direc)    \n",
    "        os.mkdir(name)\n",
    "        sx=1840\n",
    "        sy=2592\n",
    "        dx=sx/5\n",
    "        dy=sy/5\n",
    "        imcube=np.zeros([368, 518])\n",
    "        # To distinguish between photos taken during the day and night time.\n",
    "        daynight=np.zeros(len(id0[0]))\n",
    "\n",
    "\n",
    "        #clahe = cv2.createCLAHE(clipLimit=2.0, tileGridSize=(8,8))\n",
    "        print 'Reading images, Down sampling and converting to Grayscale '\n",
    "        for i in range(len(id0[0])):\n",
    "            im=cv2.imread(files[id0[0][i]])\n",
    "            if (np.max(im[500:520,500:520,0]-im[500:520,500:520,1]!=0)):\n",
    "                daynight[i]=1\n",
    "                im[1744:1944,0:209,:]=0\n",
    "                im=im[0:1840,:,:]\n",
    "                #im[1840:1944,:,:]=0\n",
    "                img=cv2.resize(im, (dy, dx),interpolation=cv2.INTER_NEAREST)\n",
    "                imresized=cv2.cvtColor(img, cv2.COLOR_RGB2GRAY)\n",
    "                #imresized = clahe.apply(imresized)\n",
    "                imcube=np.dstack((imcube,imresized))\n",
    "\n",
    "        # Saving the list of night time images\n",
    "        indnight=np.where(daynight == 0)[0]\n",
    "        imlistblur_n= np.array(files)[id0[0]][indnight]\n",
    "        nightname=name+'/'+'Night-'+name[-10:]+'.txt'\n",
    "        night=open(nightname,'w')\n",
    "        for i in imlistblur_n:\n",
    "            night.write(i+'\\n')\n",
    "            allnight.write(i+'\\n')\n",
    "        night.close()\n",
    "\n",
    "        if (len(np.shape(imcube))>2) | (np.max(imcube)>0):\n",
    "            imcube=np.delete(imcube,0,2)\n",
    "            numdayphoto=len(imcube[0,0,:])\n",
    "            print 'Bluring images...'\n",
    "            imblur=np.empty([368,518])\n",
    "            for i in range(numdayphoto):\n",
    "                imblur=np.dstack((imblur,cv2.blur(imcube[:,:,i],(5,5))))\n",
    "            imblur=np.delete(imblur,0,2)\n",
    "\n",
    "            #Calculating the mean blur image\n",
    "            nx,ny,nz=np.shape(imblur)\n",
    "            blurmean=np.mean(imblur,axis=2)\n",
    "            imblur_center=np.zeros([nx*ny,nz])\n",
    "            np.shape(imblur)\n",
    "            for i in range(numdayphoto):\n",
    "                imblur_center[:,i]=(imblur[:,:,i]-blurmean).flatten()\n",
    "            print 'Finding the 10 most important principle axis and each image components'\n",
    "            n_components=10\n",
    "            estimator=decomposition.PCA(n_components=n_components, svd_solver='randomized',whiten=True)\n",
    "            estimator.fit(imblur_center.T)\n",
    "\n",
    "            blur_transformed=estimator.fit_transform(imblur_center.T)\n",
    "            blur_inverse=estimator.inverse_transform(blur_transformed)\n",
    "\n",
    "            ### calculating the similarity between the PCA blured inverse transformed image and the original image.\n",
    "            stdpcablur=[]\n",
    "            medianpcablur=[]\n",
    "            sliceimout=np.zeros(numdayphoto,dtype=bool)\n",
    "            for i in range(numdayphoto):\n",
    "                invblur=blur_inverse[i,:].reshape(368, 518)\n",
    "                imres=imblur_center[:,i].reshape(368, 518)-invblur\n",
    "                stdpcablur=np.append(stdpcablur,np.std(imres))\n",
    "                medianpcablur=np.append(medianpcablur,np.mean(imres))\n",
    "                sliceimout[i]=sliceim(imres)\n",
    "            # Plotting the distribution of stddev of the residual maps\n",
    "            plt.figure()\n",
    "            minstdblur=np.min(stdpcablur)\n",
    "            maxstdblur=np.max(stdpcablur)\n",
    "\n",
    "            n, bins, patches=plt.hist(stdpcablur/maxstdblur,bins=np.linspace(minstdblur/maxstdblur,1,70),facecolor='red', hatch='///',alpha=1.0,label=' Lon:'+lon[id0][0][1:-1]+'\\n Lat:'+lat[id0][0][1:-1]+'\\n Daylight')\n",
    "            minmedianblur=np.min(medianpcablur)\n",
    "            medianmaxblur=np.max(medianpcablur)\n",
    "\n",
    "            stdpcablur_med=np.median(stdpcablur/maxstdblur)\n",
    "            stdpcablur_16=np.percentile(stdpcablur/maxstdblur,16)\n",
    "            sigma=stdpcablur_med-stdpcablur_16\n",
    "            newthr=stdpcablur_med+2*sigma\n",
    "            xmin=np.min(stdpcablur/maxstdblur)\n",
    "\n",
    "\n",
    "            plt.axis([xmin, np.max([1,newthr+0.02]), 0, np.max(n)+5])\n",
    "            #plt.grid(True)\n",
    "            plt.xlabel('Normalized PCA Dissimilarity Score')\n",
    "            plt.ylabel('Number of images')\n",
    "            plt.title('Date: '+dates[id0][0])\n",
    "            plt.plot([newthr,newthr],[0,np.max(n)+5],linewidth=2,color='blue',label=r'3\\sigma')\n",
    "\n",
    "            right=np.ones(np.max(n)+5)-0.5\n",
    "            plt.hist(right,bins=np.linspace(newthr,np.max([1,newthr+0.02]),2),facecolor='green', alpha=0.4)\n",
    "            left=np.ones(np.max(n)+5)-0.8\n",
    "            plt.hist(left,bins=np.linspace(0,newthr,2),facecolor='cyan', alpha=0.4)\n",
    "            plotname=name+'/'+'PCA-Dissimilarity-'+name[-10:]+'.png'\n",
    "            plt.savefig(plotname)\n",
    "\n",
    "            # Saving the list of outlier candidates\n",
    "            indday=np.where(daynight == 1)[0]\n",
    "            imlistblur= np.array(files)[id0[0]][indday]\n",
    "\n",
    "            #out2sigma=np.where(stdpcablur/maxstdblur >= newthr)[0]\n",
    "            out2sigma=np.where(sliceimout == True)[0]\n",
    "            # Fill in the blanks between the out2sigma IDs that might have been missed\n",
    "            if (len(out2sigma) > 0):\n",
    "                if  out2sigma[0] > 0:\n",
    "                    np.insert(out2sigma,0,out2sigma[0]-1)\n",
    "                if  out2sigma[-1] < len(imlistblur)-1:\n",
    "                    out2sigma=np.append(out2sigma,out2sigma[-1]+1)\n",
    "                arr2=out2sigma[1:]-out2sigma[0:-1]\n",
    "                id=np.where(arr2 != 1)[0]\n",
    "                if len(id) > 0:\n",
    "                    out2sigma=np.insert(out2sigma,id+1,out2sigma[id]+1)\n",
    "\n",
    "                newname=name+'/'+'Outliers-'+name[-10:]+'.txt'\n",
    "                cand=open(newname,'w')\n",
    "                for i in imlistblur[out2sigma]:\n",
    "                    cand.write(i+'\\n')\n",
    "                    allday.write(i+'\\n')\n",
    "\n",
    "                cand.close()\n",
    "\n",
    "                # Saving the std of residuals in a textfile\n",
    "                resdata=name+'/'+'STD-Res-'+name[-10:]+'.txt'\n",
    "                res=open(resdata,'w')\n",
    "                for i in range(len(imlistblur)):\n",
    "                    res.write(imlistblur[i]+'    '+str(stdpcablur[i])+'\\n')\n",
    "                res.close()\n",
    "\n",
    "                # Saving the PCA residual maps\n",
    "                print 'saving the PCA residual maps' \n",
    "                for i in range(len(out2sigma)):\n",
    "                    newname=name+'/'+imlistblur[out2sigma[i]][lenad:lenad+1]+'_'+imlistblur[out2sigma[i]][lenad+10:-4]\n",
    "                    invblur=blur_inverse[out2sigma,:][i].reshape(368, 518)\n",
    "                    #cv2.imwrite(newname+'_PCA_InvTransformed.JPG',invblur+blurmean)\n",
    "                    #cv2.imwrite(newname+'_PCA_MeanSubOrg.JPG',imblur_center[:,i].reshape(368, 518)+blurmean)\n",
    "                    imres=imblur_center[:,out2sigma[i]].reshape(368, 518)-invblur\n",
    "                    imres=imres+np.fabs(np.min(imres))\n",
    "                    imres=255*imres/np.max(imres)\n",
    "                    cv2.imwrite(newname+'_PCA_Residual.JPG',imres)\n",
    "\n",
    "            if (len(out2sigma) <=5) & (len(indday) <= 50):\n",
    "                print 'Low sample size! Outputing all the original images...'\n",
    "                allname=name+'/'+'all-'+name[-10:]+'.txt'\n",
    "                allim=open(allname,'w')\n",
    "                for i in range(len(indday)):\n",
    "                    orgname=name+'/'+imlistblur[i][lenad:lenad+1]+'_'+imlistblur[i][lenad+10:-4]\n",
    "                    cv2.imwrite(orgname+'.JPG',imcube[:,:,i])\n",
    "                    allim.write(imlistblur[i]+'\\n')\n",
    "                    allday.write(imlistblur[i]+'\\n')\n",
    "                allim.close()\n",
    "    allnight.close()\n",
    "    allday.close()\n",
    "\n",
    "print(\"--- %s seconds ---\" % (time.time() - start_time))\n",
    "\n"
   ]
  },
  {
   "cell_type": "code",
   "execution_count": 20,
   "metadata": {
    "collapsed": false
   },
   "outputs": [
    {
     "name": "stdout",
     "output_type": "stream",
     "text": [
      "0.57528673297\n",
      "0.642967677628\n",
      "0.674867500218\n"
     ]
    }
   ],
   "source": [
    "med=np.median(stdpcablur/maxstdblur)\n",
    "print med+2*sigma\n",
    "print newthr\n",
    "print np.percentile(stdpcablur/maxstdblur,95)"
   ]
  },
  {
   "cell_type": "code",
   "execution_count": 21,
   "metadata": {
    "collapsed": false
   },
   "outputs": [
    {
     "data": {
      "image/png": "[encoded data removed]",
      "text/plain": [
       "<matplotlib.figure.Figure at 0x115a2c510>"
      ]
     },
     "metadata": {},
     "output_type": "display_data"
    }
   ],
   "source": [
    "# Plotting the distribution of stddev of the residual maps\n",
    "plt.figure()\n",
    "minstdblur=np.min(stdpcablur)\n",
    "maxstdblur=np.max(stdpcablur)\n",
    "\n",
    "n, bins, patches=plt.hist(stdpcablur/maxstdblur,bins=np.linspace(minstdblur/maxstdblur,1,70),facecolor='red', hatch='///',alpha=1.0,label=' Lon:'+lon[id0][0][1:-1]+'\\n Lat:'+lat[id0][0][1:-1]+'\\n Daylight')\n",
    "minmedianblur=np.min(medianpcablur)\n",
    "medianmaxblur=np.max(medianpcablur)\n",
    "\n",
    "stdpcablur_med=np.median(stdpcablur/maxstdblur)\n",
    "stdpcablur_16=np.percentile(stdpcablur/maxstdblur,16)\n",
    "sigma=stdpcablur_med-stdpcablur_16\n",
    "newthr=stdpcablur_med+2*sigma\n",
    "xmin=np.min(stdpcablur/maxstdblur)\n",
    "\n",
    "\n",
    "plt.axis([xmin, np.max([1,newthr+0.02]), 0, np.max(n)+5])\n",
    "#plt.grid(True)\n",
    "plt.xlabel('Normalized PCA Dissimilarity Score')\n",
    "plt.ylabel('Number of images')\n",
    "plt.title('Date: '+dates[id0][0])\n",
    "plt.plot([newthr,newthr],[0,np.max(n)+5],linewidth=2,color='blue',label=r'3\\sigma')\n",
    "\n",
    "right=np.ones(np.max(n)+5)-0.5\n",
    "plt.hist(right,bins=np.linspace(newthr,np.max([1,newthr+0.02]),2),facecolor='green', alpha=0.4)\n",
    "left=np.ones(np.max(n)+5)-0.8\n",
    "plt.hist(left,bins=np.linspace(0,newthr,2),facecolor='cyan', alpha=0.4)\n",
    "plotname=name+'/'+'PCA-Dissimilarity-'+name[-10:]+'.png'"
   ]
  },
  {
   "cell_type": "code",
   "execution_count": 11,
   "metadata": {
    "collapsed": false
   },
   "outputs": [
    {
     "data": {
      "text/plain": [
       "array([0, 1, 2, 3, 4, 5, 6, 7, 8, 9, 5, 6, 7, 8, 9])"
      ]
     },
     "execution_count": 11,
     "metadata": {},
     "output_type": "execute_result"
    }
   ],
   "source": [
    "a=np.arange(10)\n",
    "b=a[-5:]\n",
    "c=np.append(a,b)\n",
    "c"
   ]
  },
  {
   "cell_type": "code",
   "execution_count": null,
   "metadata": {
    "collapsed": true
   },
   "outputs": [],
   "source": []
  }
 ],
 "metadata": {
  "kernelspec": {
   "display_name": "Python 2",
   "language": "python",
   "name": "python2"
  },
  "language_info": {
   "codemirror_mode": {
    "name": "ipython",
    "version": 2
   },
   "file_extension": ".py",
   "mimetype": "text/x-python",
   "name": "python",
   "nbconvert_exporter": "python",
   "pygments_lexer": "ipython2",
   "version": "2.7.12"
  }
 },
 "nbformat": 4,
 "nbformat_minor": 0
}
