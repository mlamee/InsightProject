{
 "cells": [
  {
   "cell_type": "code",
   "execution_count": 7,
   "metadata": {
    "collapsed": true
   },
   "outputs": [],
   "source": [
    "import matplotlib.pyplot as plt\n",
    "%matplotlib inline\n",
    "import cv2\n",
    "import numpy as np\n",
    "import exifread\n",
    "import glob, os\n",
    "import shutil\n",
    "from sklearn import decomposition\n",
    "import sklearn \n",
    "import time"
   ]
  },
  {
   "cell_type": "code",
   "execution_count": 14,
   "metadata": {
    "collapsed": false
   },
   "outputs": [
    {
     "name": "stdout",
     "output_type": "stream",
     "text": [
      "7224\n",
      "7316\n",
      "/Users/Mehdi/Downloads/GoldenGate-Animals/SM-1_SB-1_20141226/Positives/SM-1_20141205 (6801).JPG\n"
     ]
    }
   ],
   "source": [
    "files = glob.glob(\"/Users/Mehdi/Downloads/GoldenGate-Animals/SM-1_SB-1_20141226/Negatives/*.JPG\")\n",
    "numneg=len(files)\n",
    "print numneg\n",
    "files = files+glob.glob(\"/Users/Mehdi/Downloads/GoldenGate-Animals/SM-1_SB-1_20141226/Positives/*.JPG\")\n",
    "num=len(files)\n",
    "print num\n",
    "filepos = glob.glob(\"/Users/Mehdi/Downloads/GoldenGate-Animals/SM-1_SB-1_20141226/Positives/*.JPG\")\n",
    "numpos=len(filepos)\n",
    "print files[-1*numpos:-1][0]\n",
    "direc='/Users/Mehdi/Downloads/GoldenGate-Animals/SM-1_SB-1_20141226/PCA/'\n",
    "lenad=len('/Users/Mehdi/Downloads/GoldenGate-Animals/SM-1_SB-1_20141226/')\n"
   ]
  },
  {
   "cell_type": "code",
   "execution_count": 15,
   "metadata": {
    "collapsed": true
   },
   "outputs": [],
   "source": [
    "dates=np.array([])\n",
    "lat=np.array([])\n",
    "lon=np.array([])\n",
    "flash=np.array([])\n",
    "lightsource=np.array([])\n",
    "colorspace=np.array([])\n",
    "# Open image file for reading (binary mode)\n",
    "for i in range(num): \n",
    "    f = open(files[i], 'rb')\n",
    "    tags = exifread.process_file(f)\n",
    "    dates=np.append(dates,str(tags['EXIF DateTimeOriginal']).split()[0])\n",
    "    lat= np.append(lat,str(tags['GPS GPSLatitude']))\n",
    "    lon= np.append(lon,str(tags['GPS GPSLongitude']))\n",
    "    flash=np.append(flash,str(tags['EXIF Flash']))\n",
    "    lightsource=np.append(lightsource,str(tags['EXIF LightSource']))\n",
    "    colorspace=np.append(colorspace,str(tags['EXIF ColorSpace']))\n",
    "    \n",
    "datepos=np.array([])\n",
    "latpos=np.array([])\n",
    "lonpos=np.array([])\n",
    "flashpos=np.array([])\n",
    "lightsourcepos=np.array([])\n",
    "colorspacepos=np.array([])\n",
    "# Open image file for reading (binary mode)\n",
    "for i in range(numpos): \n",
    "    f = open(filepos[i], 'rb')\n",
    "    tagpos = exifread.process_file(f)\n",
    "    datepos=np.append(datepos,str(tagpos['EXIF DateTimeOriginal']).split()[0])\n",
    "    latpos= np.append(latpos,str(tagpos['GPS GPSLatitude']))\n",
    "    lonpos= np.append(lonpos,str(tagpos['GPS GPSLongitude']))\n",
    "    flashpos=np.append(flashpos,str(tagpos['EXIF Flash']))\n",
    "    lightsourcepos=np.append(lightsourcepos,str(tagpos['EXIF LightSource']))\n",
    "    colorspacepos=np.append(colorspacepos,str(tagpos['EXIF ColorSpace']))"
   ]
  },
  {
   "cell_type": "code",
   "execution_count": 16,
   "metadata": {
    "collapsed": false
   },
   "outputs": [
    {
     "data": {
      "text/plain": [
       "array(['[37, 31, 35]'], \n",
       "      dtype='|S32')"
      ]
     },
     "execution_count": 16,
     "metadata": {},
     "output_type": "execute_result"
    }
   ],
   "source": [
    "uni_lightsource =np.unique(lightsource)\n",
    "uni_colorspace =np.unique(colorspace)\n",
    "uni_flash =np.unique(flash)\n",
    "uni_lon =np.unique(lon)\n",
    "uni_lat =np.unique(lat)\n",
    "\n",
    "uni_lightsourcepos =np.unique(lightsourcepos)\n",
    "uni_colorspacepos =np.unique(colorspacepos)\n",
    "uni_flashpos =np.unique(flashpos)\n",
    "uni_lonpos =np.unique(lonpos)\n",
    "uni_latpos =np.unique(latpos)\n",
    "uni_latpos"
   ]
  },
  {
   "cell_type": "code",
   "execution_count": null,
   "metadata": {
    "collapsed": false
   },
   "outputs": [
    {
     "name": "stdout",
     "output_type": "stream",
     "text": [
      "['2014:11:12' '2014:11:14' '2014:11:15' '2014:11:16' '2014:11:17'\n",
      " '2014:11:18' '2014:11:20' '2014:11:21' '2014:11:22' '2014:11:23'\n",
      " '2014:11:24' '2014:11:25' '2014:11:26' '2014:11:27' '2014:11:28'\n",
      " '2014:11:30' '2014:12:01' '2014:12:05' '2014:12:06' '2014:12:11'\n",
      " '2014:12:13' '2014:12:14' '2014:12:15' '2014:12:16' '2014:12:26']\n"
     ]
    },
    {
     "data": {
      "text/plain": [
       "array([  1.,   3.,   6.,   3.,   9.,  14.,   3.,  24.,  12.,   1.,   3.,\n",
       "         6.,   7.])"
      ]
     },
     "execution_count": 17,
     "metadata": {},
     "output_type": "execute_result"
    }
   ],
   "source": [
    "uniquedate =np.unique(dates)\n",
    "print uniquedate\n",
    "num_unique=np.zeros(len(uniquedate))\n",
    "for i in range(len(uniquedate)):\n",
    "    num_unique[i]=len(np.where(dates== uniquedate[i])[0])\n",
    "num_unique\n",
    "\n",
    "uniquedatepos =np.unique(datepos)\n",
    "num_uniquepos=np.zeros(len(uniquedatepos))\n",
    "for i in range(len(uniquedatepos)):\n",
    "    num_uniquepos[i]=len(np.where(datepos== uniquedatepos[i])[0])\n",
    "num_uniquepos"
   ]
  },
  {
   "cell_type": "code",
   "execution_count": null,
   "metadata": {
    "collapsed": false
   },
   "outputs": [],
   "source": [
    "start_time = time.time()\n",
    "for index in range(len(uniquedate)): \n",
    "    print 'Iteration over unique date of ',uniquedate[index] \n",
    "    id0=np.where(dates== uniquedate[index])\n",
    "    print dates[id0][0]\n",
    "    name=direc+dates[id0][0]\n",
    "    if os.path.isdir(name):\n",
    "        shutil.rmtree(name)\n",
    "    if os.path.isdir(direc)== False:\n",
    "        os.mkdir(direc)    \n",
    "    os.mkdir(name)\n",
    "    sx=1840\n",
    "    sy=2592\n",
    "    dx=sx/5\n",
    "    dy=sy/5\n",
    "    imcube=np.empty([368, 518])\n",
    "    #clahe = cv2.createCLAHE(clipLimit=2.0, tileGridSize=(8,8))\n",
    "\n",
    "    for i in range(len(id0[0])):\n",
    "        im=cv2.imread(files[id0[0][i]])\n",
    "        im[1744:1944,0:209,:]=0\n",
    "        im=im[0:1840,:,:]\n",
    "        #im[1840:1944,:,:]=0\n",
    "        img=cv2.resize(im, (dy, dx),interpolation=cv2.INTER_NEAREST)\n",
    "        imresized=cv2.cvtColor(img, cv2.COLOR_RGB2GRAY)\n",
    "        #imresized = clahe.apply(imresized)\n",
    "        imcube=np.dstack((imcube,imresized))\n",
    "    imcube=np.delete(imcube,0,2)\n",
    "\n",
    "    imblur=np.empty([368,518])\n",
    "    for i in range(len(id0[0])):\n",
    "        imblur=np.dstack((imblur,cv2.blur(imcube[:,:,i],(5,5))))\n",
    "    imblur=np.delete(imblur,0,2)\n",
    "\n",
    "    #Calculating the mean blur image\n",
    "    nx,ny,nz=np.shape(imblur)\n",
    "    blurmean=np.mean(imblur,axis=2)\n",
    "    imblur_center=np.zeros([nx*ny,nz])\n",
    "    np.shape(imblur)\n",
    "    for i in range(len(id0[0])):\n",
    "        imblur_center[:,i]=(imblur[:,:,i]-blurmean).flatten()\n",
    "\n",
    "    n_components=10\n",
    "    estimator=decomposition.PCA(n_components=n_components, svd_solver='randomized',whiten=True)\n",
    "    estimator.fit(imblur_center.T)\n",
    "\n",
    "    blur_transformed=estimator.fit_transform(imblur_center.T)\n",
    "    blur_inverse=estimator.inverse_transform(blur_transformed)\n",
    "\n",
    "    ### calculating the similarity between the PCA blured inverse transformed image and the original image.\n",
    "    stdpcablur=[]\n",
    "    medianpcablur=[]\n",
    "    for i in range(len(id0[0])):\n",
    "        invblur=blur_inverse[i,:].reshape(368, 518)\n",
    "        stdpcablur=np.append(stdpcablur,np.std(imblur_center[:,i].reshape(368, 518)-invblur))\n",
    "        medianpcablur=np.append(medianpcablur,np.mean(imblur_center[:,i].reshape(368, 518)-invblur))\n",
    "\n",
    "    # Plotting the distribution of stddev of the residual maps\n",
    "    minstdblur=np.min(stdpcablur)\n",
    "    maxstdblur=np.max(stdpcablur)\n",
    "\n",
    "    n, bins, patches=plt.hist(stdpcablur/maxstdblur,bins=np.linspace(minstdblur/maxstdblur,1,70),facecolor='red', hatch='///',alpha=1.0,label=' Lon:'+lon[id0][0][1:-1]+'\\n Lat:'+lat[id0][0][1:-1]+'\\n Daylight')\n",
    "\n",
    "    minmedianblur=np.min(medianpcablur)\n",
    "    medianmaxblur=np.max(medianpcablur)\n",
    "\n",
    "    stdpcablur_med=np.median(stdpcablur/maxstdblur)\n",
    "    stdpcablur_16=np.percentile(stdpcablur/maxstdblur,16)\n",
    "    sigma=stdpcablur_med-stdpcablur_16\n",
    "    newthr=stdpcablur_med+3*sigma\n",
    "\n",
    "    plt.axis([0.13, 1, 0, np.max(n)+5])\n",
    "    #plt.grid(True)\n",
    "    plt.xlabel('Normalized PCA Dissimilarity Score')\n",
    "    plt.ylabel('Number of images')\n",
    "    plt.title('Date: '+dates[id0][0])\n",
    "    plt.plot([newthr,newthr],[0,np.max(n)+5],linewidth=2,color='blue',label=r'3\\sigma')\n",
    "\n",
    "    right=np.ones(np.max(n)+5)-0.5\n",
    "    plt.hist(right,bins=np.linspace(newthr,1,2),facecolor='green', alpha=0.4)\n",
    "    left=np.ones(np.max(n)+5)-0.8\n",
    "    plt.hist(left,bins=np.linspace(0,newthr,2),facecolor='cyan', alpha=0.4)\n",
    "    plotname=name+'/'+'PCA-Dissimilarity-'+name[-10:]+'.png'\n",
    "    plt.savefig(plotname)\n",
    "\n",
    "    # Saving the PCA residual maps\n",
    "    for i in range(len(out3sigma[0])):\n",
    "        newname=name+'/'+imlistblur[out3sigma[0][i]][lenad:lenad+1]+'_'+imlistblur[out3sigma[0][i]][lenad+10:-4]\n",
    "        invblur=blur_inverse[i,:].reshape(368, 518)\n",
    "        #cv2.imwrite(newname+'_PCA_InvTransformed.JPG',invblur+blurmean)\n",
    "        #cv2.imwrite(newname+'_PCA_MeanSubOrg.JPG',imblur_center[:,i].reshape(368, 518)+blurmean)\n",
    "        imres=imblur_center[:,i].reshape(368, 518)-invblur\n",
    "        imres=imres+np.fabs(np.min(imres))\n",
    "        imres=255*imres/np.max(imres)\n",
    "        cv2.imwrite(newname+'_PCA_Residual.JPG',imres)\n",
    "\n",
    "    # Saving the list of outlier candidates\n",
    "    out3sigma=np.where(stdpcablur/maxstdblur >= newthr)\n",
    "    newname=name+'/'+'Outliers-'+name[-10:]+'.txt'\n",
    "    cand=open(newname,'w')\n",
    "    for i in imlistblur[out3sigma[0]]:\n",
    "        cand.write(i+'\\n')\n",
    "    cand.close()\n",
    "print(\"--- %s seconds ---\" % (time.time() - start_time))\n",
    "\n"
   ]
  },
  {
   "cell_type": "code",
   "execution_count": null,
   "metadata": {
    "collapsed": false
   },
   "outputs": [],
   "source": []
  },
  {
   "cell_type": "code",
   "execution_count": null,
   "metadata": {
    "collapsed": true
   },
   "outputs": [],
   "source": []
  },
  {
   "cell_type": "code",
   "execution_count": null,
   "metadata": {
    "collapsed": true
   },
   "outputs": [],
   "source": []
  },
  {
   "cell_type": "code",
   "execution_count": null,
   "metadata": {
    "collapsed": true
   },
   "outputs": [],
   "source": []
  },
  {
   "cell_type": "code",
   "execution_count": null,
   "metadata": {
    "collapsed": true
   },
   "outputs": [],
   "source": []
  }
 ],
 "metadata": {
  "kernelspec": {
   "display_name": "Python 2",
   "language": "python",
   "name": "python2"
  },
  "language_info": {
   "codemirror_mode": {
    "name": "ipython",
    "version": 2
   },
   "file_extension": ".py",
   "mimetype": "text/x-python",
   "name": "python",
   "nbconvert_exporter": "python",
   "pygments_lexer": "ipython2",
   "version": "2.7.12"
  }
 },
 "nbformat": 4,
 "nbformat_minor": 0
}
