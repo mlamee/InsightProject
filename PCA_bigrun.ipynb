{
 "cells": [
  {
   "cell_type": "code",
   "execution_count": 7,
   "metadata": {
    "collapsed": true
   },
   "outputs": [],
   "source": [
    "import matplotlib.pyplot as plt\n",
    "%matplotlib inline\n",
    "import cv2\n",
    "import numpy as np\n",
    "import exifread\n",
    "import glob, os\n",
    "import shutil\n",
    "from sklearn import decomposition\n",
    "import sklearn \n",
    "import time"
   ]
  },
  {
   "cell_type": "code",
   "execution_count": 101,
   "metadata": {
    "collapsed": false
   },
   "outputs": [
    {
     "name": "stdout",
     "output_type": "stream",
     "text": [
      "2409\n",
      "2424\n",
      "/Users/Mehdi/Downloads/GoldenGate-Animals/SM-4_SB-6_20160715/Positives/SM-4 6-14-2016 8-21-010.JPG\n"
     ]
    }
   ],
   "source": [
    "memory='SM-4_SB-6_20160715'\n",
    "files = glob.glob(\"/Users/Mehdi/Downloads/GoldenGate-Animals/\"+memory+\"/Negatives/*.JPG\")\n",
    "\n",
    "numneg=len(files)\n",
    "print numneg\n",
    "files = files+glob.glob(\"/Users/Mehdi/Downloads/GoldenGate-Animals/\"+memory+\"/Positives/*.JPG\")\n",
    "num=len(files)\n",
    "print num\n",
    "filepos = glob.glob(\"/Users/Mehdi/Downloads/GoldenGate-Animals/\"+memory+\"/Positives/*.JPG\")\n",
    "numpos=len(filepos)\n",
    "print files[-1*numpos:-1][0]\n",
    "direc='/Users/Mehdi/Downloads/GoldenGate-Animals/'+memory+'/PCA/'\n",
    "lenad=len('/Users/Mehdi/Downloads/GoldenGate-Animals/'+memory+'/')\n"
   ]
  },
  {
   "cell_type": "code",
   "execution_count": 102,
   "metadata": {
    "collapsed": true
   },
   "outputs": [],
   "source": [
    "dates=np.array([])\n",
    "lat=np.array([])\n",
    "lon=np.array([])\n",
    "flash=np.array([])\n",
    "lightsource=np.array([])\n",
    "colorspace=np.array([])\n",
    "# Open image file for reading (binary mode)\n",
    "for i in range(num): \n",
    "    f = open(files[i], 'rb')\n",
    "    tags = exifread.process_file(f)\n",
    "    dates=np.append(dates,str(tags['EXIF DateTimeOriginal']).split()[0])\n",
    "    lat= np.append(lat,str(tags['GPS GPSLatitude']))\n",
    "    lon= np.append(lon,str(tags['GPS GPSLongitude']))\n",
    "    flash=np.append(flash,str(tags['EXIF Flash']))\n",
    "    lightsource=np.append(lightsource,str(tags['EXIF LightSource']))\n",
    "    colorspace=np.append(colorspace,str(tags['EXIF ColorSpace']))\n",
    "    \n",
    "datepos=np.array([])\n",
    "latpos=np.array([])\n",
    "lonpos=np.array([])\n",
    "flashpos=np.array([])\n",
    "lightsourcepos=np.array([])\n",
    "colorspacepos=np.array([])\n",
    "# Open image file for reading (binary mode)\n",
    "for i in range(numpos): \n",
    "    f = open(filepos[i], 'rb')\n",
    "    tagpos = exifread.process_file(f)\n",
    "    datepos=np.append(datepos,str(tagpos['EXIF DateTimeOriginal']).split()[0])\n",
    "    latpos= np.append(latpos,str(tagpos['GPS GPSLatitude']))\n",
    "    lonpos= np.append(lonpos,str(tagpos['GPS GPSLongitude']))\n",
    "    flashpos=np.append(flashpos,str(tagpos['EXIF Flash']))\n",
    "    lightsourcepos=np.append(lightsourcepos,str(tagpos['EXIF LightSource']))\n",
    "    colorspacepos=np.append(colorspacepos,str(tagpos['EXIF ColorSpace']))"
   ]
  },
  {
   "cell_type": "code",
   "execution_count": 103,
   "metadata": {
    "collapsed": false
   },
   "outputs": [
    {
     "data": {
      "text/plain": [
       "array(['[37, 31, 35]'], \n",
       "      dtype='|S32')"
      ]
     },
     "execution_count": 103,
     "metadata": {},
     "output_type": "execute_result"
    }
   ],
   "source": [
    "uni_lightsource =np.unique(lightsource)\n",
    "uni_colorspace =np.unique(colorspace)\n",
    "uni_flash =np.unique(flash)\n",
    "uni_lon =np.unique(lon)\n",
    "uni_lat =np.unique(lat)\n",
    "\n",
    "uni_lightsourcepos =np.unique(lightsourcepos)\n",
    "uni_colorspacepos =np.unique(colorspacepos)\n",
    "uni_flashpos =np.unique(flashpos)\n",
    "uni_lonpos =np.unique(lonpos)\n",
    "uni_latpos =np.unique(latpos)\n",
    "uni_latpos"
   ]
  },
  {
   "cell_type": "code",
   "execution_count": 104,
   "metadata": {
    "collapsed": false
   },
   "outputs": [
    {
     "name": "stdout",
     "output_type": "stream",
     "text": [
      "['2016:06:13' '2016:06:14' '2016:06:15' '2016:06:16' '2016:06:18'\n",
      " '2016:06:19' '2016:06:20' '2016:06:21' '2016:06:22' '2016:06:23'\n",
      " '2016:06:24' '2016:06:25' '2016:06:26' '2016:06:27' '2016:06:28'\n",
      " '2016:06:30' '2016:07:01' '2016:07:03' '2016:07:08' '2016:07:09'\n",
      " '2016:07:10' '2016:07:11' '2016:07:12' '2016:07:13' '2016:07:14']\n"
     ]
    },
    {
     "data": {
      "text/plain": [
       "array([ 6.,  9.])"
      ]
     },
     "execution_count": 104,
     "metadata": {},
     "output_type": "execute_result"
    }
   ],
   "source": [
    "uniquedate =np.unique(dates)\n",
    "print uniquedate\n",
    "num_unique=np.zeros(len(uniquedate))\n",
    "for i in range(len(uniquedate)):\n",
    "    num_unique[i]=len(np.where(dates== uniquedate[i])[0])\n",
    "num_unique\n",
    "\n",
    "uniquedatepos =np.unique(datepos)\n",
    "num_uniquepos=np.zeros(len(uniquedatepos))\n",
    "for i in range(len(uniquedatepos)):\n",
    "    num_uniquepos[i]=len(np.where(datepos== uniquedatepos[i])[0])\n",
    "num_uniquepos"
   ]
  },
  {
   "cell_type": "code",
   "execution_count": 105,
   "metadata": {
    "collapsed": false
   },
   "outputs": [
    {
     "data": {
      "text/plain": [
       "array([   6.,  345.,  147.,  114.,  102.,   87.,    3.,    3.,    3.,\n",
       "        462.,   18.,    9.,    9.,    3.,    3.,   24.,    6.,    6.,\n",
       "         24.,   12.,  942.,    9.,   63.,    6.,   18.])"
      ]
     },
     "execution_count": 105,
     "metadata": {},
     "output_type": "execute_result"
    }
   ],
   "source": [
    "num_unique"
   ]
  },
  {
   "cell_type": "code",
   "execution_count": 106,
   "metadata": {
    "collapsed": false
   },
   "outputs": [
    {
     "name": "stdout",
     "output_type": "stream",
     "text": [
      "/Users/Mehdi/Downloads/GoldenGate-Animals/SM-4_SB-1_20160523/Night.txt\n"
     ]
    }
   ],
   "source": [
    "print name[0:-14]+'Night.txt'"
   ]
  },
  {
   "cell_type": "code",
   "execution_count": null,
   "metadata": {
    "collapsed": false
   },
   "outputs": [
    {
     "name": "stdout",
     "output_type": "stream",
     "text": [
      "Iteration over unique date of  2016:06:13\n",
      "2016:06:13\n",
      "Reading images, Down sampling and converting to Grayscale \n",
      "Bluring images...\n",
      "Finding the 10 most important principle axis and each image components\n",
      "saving the PCA residual maps\n",
      "Low sample size! Outputing all the original images...\n",
      "Iteration over unique date of  2016:06:14\n",
      "2016:06:14\n",
      "Reading images, Down sampling and converting to Grayscale \n",
      "Bluring images..."
     ]
    }
   ],
   "source": [
    "start_time = time.time()\n",
    "nightname_all=name[0:-14]+'Night.txt'\n",
    "allnight=open(nightname_all,'w')\n",
    "allcandid=name[0:-14]+'allcandid.txt'\n",
    "allday=open(allcandid,'w')\n",
    "for index in range(len(uniquedate)): \n",
    "#for index in np.linspace(6,len(uniquedate)-1,len(uniquedate)-6):\n",
    "    print 'Iteration over unique date of ',uniquedate[index] \n",
    "    id0=np.where((dates== uniquedate[index]) & (lightsource=='Daylight'))\n",
    "    print dates[id0][0]\n",
    "    name=direc+dates[id0][0]\n",
    "    if os.path.isdir(name):\n",
    "        shutil.rmtree(name)\n",
    "    if os.path.isdir(direc)== False:\n",
    "        os.mkdir(direc)    \n",
    "    os.mkdir(name)\n",
    "    sx=1840\n",
    "    sy=2592\n",
    "    dx=sx/5\n",
    "    dy=sy/5\n",
    "    imcube=np.zeros([368, 518])\n",
    "    # To distinguish between photos taken during the day and night time.\n",
    "    daynight=np.zeros(len(id0[0]))\n",
    "\n",
    "        \n",
    "    #clahe = cv2.createCLAHE(clipLimit=2.0, tileGridSize=(8,8))\n",
    "    print 'Reading images, Down sampling and converting to Grayscale '\n",
    "    for i in range(len(id0[0])):\n",
    "        im=cv2.imread(files[id0[0][i]])\n",
    "        if (np.max(im[500:520,500:520,0]-im[500:520,500:520,1]!=0)):\n",
    "            daynight[i]=1\n",
    "            im[1744:1944,0:209,:]=0\n",
    "            im=im[0:1840,:,:]\n",
    "            #im[1840:1944,:,:]=0\n",
    "            img=cv2.resize(im, (dy, dx),interpolation=cv2.INTER_NEAREST)\n",
    "            imresized=cv2.cvtColor(img, cv2.COLOR_RGB2GRAY)\n",
    "            #imresized = clahe.apply(imresized)\n",
    "            imcube=np.dstack((imcube,imresized))\n",
    "   \n",
    "    # Saving the list of night time images\n",
    "    indnight=np.where(daynight == 0)[0]\n",
    "    imlistblur_n= np.array(files)[id0[0]][indnight]\n",
    "    nightname=name+'/'+'Night-'+name[-10:]+'.txt'\n",
    "    night=open(nightname,'w')\n",
    "    for i in imlistblur_n:\n",
    "        night.write(i+'\\n')\n",
    "        allnight.write(i+'\\n')\n",
    "    night.close()\n",
    "\n",
    "    if (len(np.shape(imcube))>2) | (np.max(imcube)>0):\n",
    "        imcube=np.delete(imcube,0,2)\n",
    "        numdayphoto=len(imcube[0,0,:])\n",
    "        print 'Bluring images...'\n",
    "        imblur=np.empty([368,518])\n",
    "        for i in range(numdayphoto):\n",
    "            imblur=np.dstack((imblur,cv2.blur(imcube[:,:,i],(5,5))))\n",
    "        imblur=np.delete(imblur,0,2)\n",
    "\n",
    "        #Calculating the mean blur image\n",
    "        nx,ny,nz=np.shape(imblur)\n",
    "        blurmean=np.mean(imblur,axis=2)\n",
    "        imblur_center=np.zeros([nx*ny,nz])\n",
    "        np.shape(imblur)\n",
    "        for i in range(numdayphoto):\n",
    "            imblur_center[:,i]=(imblur[:,:,i]-blurmean).flatten()\n",
    "        print 'Finding the 10 most important principle axis and each image components'\n",
    "        n_components=10\n",
    "        estimator=decomposition.PCA(n_components=n_components, svd_solver='randomized',whiten=True)\n",
    "        estimator.fit(imblur_center.T)\n",
    "\n",
    "        blur_transformed=estimator.fit_transform(imblur_center.T)\n",
    "        blur_inverse=estimator.inverse_transform(blur_transformed)\n",
    "\n",
    "        ### calculating the similarity between the PCA blured inverse transformed image and the original image.\n",
    "        stdpcablur=[]\n",
    "        medianpcablur=[]\n",
    "        for i in range(numdayphoto):\n",
    "            invblur=blur_inverse[i,:].reshape(368, 518)\n",
    "            stdpcablur=np.append(stdpcablur,np.std(imblur_center[:,i].reshape(368, 518)-invblur))\n",
    "            medianpcablur=np.append(medianpcablur,np.mean(imblur_center[:,i].reshape(368, 518)-invblur))\n",
    "\n",
    "        # Plotting the distribution of stddev of the residual maps\n",
    "        plt.figure()\n",
    "        minstdblur=np.min(stdpcablur)\n",
    "        maxstdblur=np.max(stdpcablur)\n",
    "\n",
    "        n, bins, patches=plt.hist(stdpcablur/maxstdblur,bins=np.linspace(minstdblur/maxstdblur,1,70),facecolor='red', hatch='///',alpha=1.0,label=' Lon:'+lon[id0][0][1:-1]+'\\n Lat:'+lat[id0][0][1:-1]+'\\n Daylight')\n",
    "        minmedianblur=np.min(medianpcablur)\n",
    "        medianmaxblur=np.max(medianpcablur)\n",
    "\n",
    "        stdpcablur_med=np.median(stdpcablur/maxstdblur)\n",
    "        stdpcablur_16=np.percentile(stdpcablur/maxstdblur,16)\n",
    "        sigma=stdpcablur_med-stdpcablur_16\n",
    "        newthr=stdpcablur_med+2*sigma\n",
    "        xmin=np.min(stdpcablur/maxstdblur)\n",
    "\n",
    "\n",
    "        plt.axis([xmin, np.max([1,newthr+0.02]), 0, np.max(n)+5])\n",
    "        #plt.grid(True)\n",
    "        plt.xlabel('Normalized PCA Dissimilarity Score')\n",
    "        plt.ylabel('Number of images')\n",
    "        plt.title('Date: '+dates[id0][0])\n",
    "        plt.plot([newthr,newthr],[0,np.max(n)+5],linewidth=2,color='blue',label=r'3\\sigma')\n",
    "\n",
    "        right=np.ones(np.max(n)+5)-0.5\n",
    "        plt.hist(right,bins=np.linspace(newthr,np.max([1,newthr+0.02]),2),facecolor='green', alpha=0.4)\n",
    "        left=np.ones(np.max(n)+5)-0.8\n",
    "        plt.hist(left,bins=np.linspace(0,newthr,2),facecolor='cyan', alpha=0.4)\n",
    "        plotname=name+'/'+'PCA-Dissimilarity-'+name[-10:]+'.png'\n",
    "        plt.savefig(plotname)\n",
    "\n",
    "        # Saving the list of outlier candidates\n",
    "        indday=np.where(daynight == 1)[0]\n",
    "        imlistblur= np.array(files)[id0[0]][indday]\n",
    "        \n",
    "        out2sigma=np.where(stdpcablur/maxstdblur >= newthr)[0]\n",
    "        # Fill in the blanks between the out2sigma IDs that might have been missed\n",
    "        if (len(out2sigma) > 0):\n",
    "            if  out2sigma[0] > 0:\n",
    "                np.insert(out2sigma,0,out2sigma[0]-1)\n",
    "            if  out2sigma[-1] < len(imlistblur)-1:\n",
    "                out2sigma=np.append(out2sigma,out2sigma[-1]+1)\n",
    "            arr2=out2sigma[1:]-out2sigma[0:-1]\n",
    "            id=np.where(arr2 != 1)[0]\n",
    "            if len(id) > 0:\n",
    "                out2sigma=np.insert(out2sigma,id+1,out2sigma[id]+1)\n",
    "        \n",
    "            newname=name+'/'+'Outliers-'+name[-10:]+'.txt'\n",
    "            cand=open(newname,'w')\n",
    "            for i in imlistblur[out2sigma]:\n",
    "                cand.write(i+'\\n')\n",
    "                allday.write(i+'\\n')\n",
    "\n",
    "            cand.close()\n",
    "\n",
    "            # Saving the std of residuals in a textfile\n",
    "            resdata=name+'/'+'STD-Res-'+name[-10:]+'.txt'\n",
    "            res=open(resdata,'w')\n",
    "            for i in range(len(imlistblur)):\n",
    "                res.write(imlistblur[i]+'    '+str(stdpcablur[i])+'\\n')\n",
    "            res.close()\n",
    "\n",
    "            # Saving the PCA residual maps\n",
    "            print 'saving the PCA residual maps' \n",
    "            for i in range(len(out2sigma)):\n",
    "                newname=name+'/'+imlistblur[out2sigma[i]][lenad:lenad+1]+'_'+imlistblur[out2sigma[i]][lenad+10:-4]\n",
    "                invblur=blur_inverse[i,:].reshape(368, 518)\n",
    "                #cv2.imwrite(newname+'_PCA_InvTransformed.JPG',invblur+blurmean)\n",
    "                #cv2.imwrite(newname+'_PCA_MeanSubOrg.JPG',imblur_center[:,i].reshape(368, 518)+blurmean)\n",
    "                imres=imblur_center[:,i].reshape(368, 518)-invblur\n",
    "                imres=imres+np.fabs(np.min(imres))\n",
    "                imres=255*imres/np.max(imres)\n",
    "                cv2.imwrite(newname+'_PCA_Residual.JPG',imres)\n",
    "            \n",
    "        if (len(out2sigma) <=5) & (len(indday) <= 50):\n",
    "            print 'Low sample size! Outputing all the original images...'\n",
    "            allname=name+'/'+'all-'+name[-10:]+'.txt'\n",
    "            allim=open(allname,'w')\n",
    "            for i in range(len(indday)):\n",
    "                orgname=name+'/'+imlistblur[i][lenad:lenad+1]+'_'+imlistblur[i][lenad+10:-4]\n",
    "                cv2.imwrite(orgname+'.JPG',imcube[:,:,i])\n",
    "                allim.write(imlistblur[i]+'\\n')\n",
    "                allday.write(imlistblur[i]+'\\n')\n",
    "            allim.close()\n",
    "allnight.close()\n",
    "allday.close()\n",
    "\n",
    "print(\"--- %s seconds ---\" % (time.time() - start_time))\n",
    "\n"
   ]
  },
  {
   "cell_type": "code",
   "execution_count": null,
   "metadata": {
    "collapsed": false
   },
   "outputs": [],
   "source": [
    "out2sigma=np.where(stdpcablur/maxstdblur >= newthr)[0]\n",
    "print out2sigma\n",
    "# Fill in the blanks between the out2sigma IDs that might have been missed\n",
    "if (len(out2sigma) > 0)& (out2sigma[0] > 0):\n",
    "    np.insert(out2sigma,0,out2sigma[0]-1)\n",
    "if (len(out2sigma) > 0)& (out2sigma[-1] < len(imlistblur)-1):\n",
    "    out2sigma=np.append(out2sigma,out2sigma[-1]+1)\n",
    "arr2=out2sigma[1:]-out2sigma[0:-1]\n",
    "id=np.where(arr2 != 1)[0]\n",
    "if len(id) > 0:\n",
    "    out2sigma=np.insert(out2sigma,id+1,out2sigma[id]+1)\n"
   ]
  },
  {
   "cell_type": "code",
   "execution_count": 145,
   "metadata": {
    "collapsed": false
   },
   "outputs": [
    {
     "name": "stdout",
     "output_type": "stream",
     "text": [
      "345\n",
      "345\n"
     ]
    },
    {
     "data": {
      "text/plain": [
       "(368, 518, 345)"
      ]
     },
     "execution_count": 145,
     "metadata": {},
     "output_type": "execute_result"
    }
   ],
   "source": [
    "print len(imlistblur)\n",
    "print len(indday)\n",
    "np.shape(imcube)"
   ]
  },
  {
   "cell_type": "code",
   "execution_count": 72,
   "metadata": {
    "collapsed": false
   },
   "outputs": [
    {
     "data": {
      "text/plain": [
       "array([ 0.])"
      ]
     },
     "execution_count": 72,
     "metadata": {},
     "output_type": "execute_result"
    }
   ],
   "source": [
    "stdpcablur"
   ]
  },
  {
   "cell_type": "code",
   "execution_count": 121,
   "metadata": {
    "collapsed": false
   },
   "outputs": [
    {
     "name": "stdout",
     "output_type": "stream",
     "text": [
      "[ 0  1  3  5  6  9 10 13 14]\n",
      "[1 2 2 1 3 1 3 1]\n",
      "[ 0  1  2  3  4  5  6  7  9 10 11 13 14]\n"
     ]
    }
   ],
   "source": [
    "arr=np.array([1,3,5,6,9,10,13])\n",
    "arr=np.append(np.insert(arr,0,arr[0]-1),arr[-1]+1)\n",
    "print arr\n",
    "arr2=arr[1:]-arr[0:-1]\n",
    "print arr2\n",
    "id=np.where(arr2 != 1)[0]\n",
    "if len(id) > 0:\n",
    "    arr3=np.insert(arr,id+1,arr[id]+1)\n",
    "print arr3\n"
   ]
  },
  {
   "cell_type": "code",
   "execution_count": null,
   "metadata": {
    "collapsed": true
   },
   "outputs": [],
   "source": []
  },
  {
   "cell_type": "code",
   "execution_count": null,
   "metadata": {
    "collapsed": true
   },
   "outputs": [],
   "source": []
  }
 ],
 "metadata": {
  "kernelspec": {
   "display_name": "Python 2",
   "language": "python",
   "name": "python2"
  },
  "language_info": {
   "codemirror_mode": {
    "name": "ipython",
    "version": 2
   },
   "file_extension": ".py",
   "mimetype": "text/x-python",
   "name": "python",
   "nbconvert_exporter": "python",
   "pygments_lexer": "ipython2",
   "version": "2.7.12"
  }
 },
 "nbformat": 4,
 "nbformat_minor": 0
}
